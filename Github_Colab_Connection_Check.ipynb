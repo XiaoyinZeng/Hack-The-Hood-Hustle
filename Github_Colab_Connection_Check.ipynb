{
  "nbformat": 4,
  "nbformat_minor": 0,
  "metadata": {
    "colab": {
      "provenance": [],
      "authorship_tag": "ABX9TyNd/AOIswBPEcG2pbN89+Py",
      "include_colab_link": true
    },
    "kernelspec": {
      "name": "python3",
      "display_name": "Python 3"
    },
    "language_info": {
      "name": "python"
    }
  },
  "cells": [
    {
      "cell_type": "markdown",
      "metadata": {
        "id": "view-in-github",
        "colab_type": "text"
      },
      "source": [
        "<a href=\"https://colab.research.google.com/github/XiaoyinZeng/Hack-The-Hood-Hustle/blob/main/Github_Colab_Connection_Check.ipynb\" target=\"_parent\"><img src=\"https://colab.research.google.com/assets/colab-badge.svg\" alt=\"Open In Colab\"/></a>"
      ]
    },
    {
      "cell_type": "code",
      "execution_count": null,
      "metadata": {
        "id": "YPx8CLRE6261"
      },
      "outputs": [],
      "source": [
        "## Xiaoyin , Tiger team Tues orange 10am-12pm\n",
        "## my instructor: Yoline, Jazz\n",
        "\n",
        "## Github profile: https://github.com/XiaoyinZeng"
      ]
    }
  ]
}