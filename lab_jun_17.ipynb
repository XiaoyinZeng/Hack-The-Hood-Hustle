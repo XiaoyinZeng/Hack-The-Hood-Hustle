{
  "nbformat": 4,
  "nbformat_minor": 0,
  "metadata": {
    "colab": {
      "provenance": [],
      "authorship_tag": "ABX9TyOa5b4XJH5D/QL2C5up8HCT",
      "include_colab_link": true
    },
    "kernelspec": {
      "name": "python3",
      "display_name": "Python 3"
    },
    "language_info": {
      "name": "python"
    }
  },
  "cells": [
    {
      "cell_type": "markdown",
      "metadata": {
        "id": "view-in-github",
        "colab_type": "text"
      },
      "source": [
        "<a href=\"https://colab.research.google.com/github/XiaoyinZeng/Hack-The-Hood-Hustle/blob/main/lab_jun_17.ipynb\" target=\"_parent\"><img src=\"https://colab.research.google.com/assets/colab-badge.svg\" alt=\"Open In Colab\"/></a>"
      ]
    },
    {
      "cell_type": "markdown",
      "source": [
        "#Lab Jun.17\n",
        "\n",
        "### Intro to Pseudo Code"
      ],
      "metadata": {
        "id": "uV0Z7EeTzbWu"
      }
    },
    {
      "cell_type": "markdown",
      "source": [
        "  # The rules to define variables\n",
        "\n",
        "  1) Must start with a letter or _Underscore\n",
        "  2) Consists of Letters, Numbers, and Underscores But it will not start with a Number\n",
        "  3) Variable names are case sensitive\n",
        "\n",
        "\n"
      ],
      "metadata": {
        "id": "Bu5zoFopwLOt"
      }
    },
    {
      "cell_type": "code",
      "source": [
        "car = \"Mercedes\"\n",
        "car = \"Audi\""
      ],
      "metadata": {
        "id": "pkxI4j1kxvi8"
      },
      "execution_count": 5,
      "outputs": []
    },
    {
      "cell_type": "code",
      "source": [
        "car"
      ],
      "metadata": {
        "colab": {
          "base_uri": "https://localhost:8080/",
          "height": 35
        },
        "id": "MR3cLOwU0mjV",
        "outputId": "49f95f4e-4f17-4261-c22e-b80c07bd8837"
      },
      "execution_count": 7,
      "outputs": [
        {
          "output_type": "execute_result",
          "data": {
            "text/plain": [
              "'Audi'"
            ],
            "application/vnd.google.colaboratory.intrinsic+json": {
              "type": "string"
            }
          },
          "metadata": {},
          "execution_count": 7
        }
      ]
    },
    {
      "cell_type": "code",
      "source": [
        "print(car)"
      ],
      "metadata": {
        "colab": {
          "base_uri": "https://localhost:8080/"
        },
        "id": "mFmwCOIY0pkq",
        "outputId": "1d67c3ff-08ad-4c5c-f5b8-9d23e7771ccf"
      },
      "execution_count": 9,
      "outputs": [
        {
          "output_type": "stream",
          "name": "stdout",
          "text": [
            "Audi\n"
          ]
        }
      ]
    },
    {
      "cell_type": "markdown",
      "source": [
        "### Psuedo code for my application\n",
        "\n",
        "I want to write a program that takes user input and prints it back to the screen\n",
        "\n",
        "`First_name` the user's first name\n",
        "\n",
        "`Last_name` the user's last name\n",
        "\n",
        "`Age` the user's age\n",
        "\n",
        "`fav_colour` the user's favorite colour\n",
        "\n",
        "`fav_sport` the user's favorite sport\n",
        "\n",
        "`fav_Team` the user's favorite team\n",
        "\n",
        "use a 'built-in' process to take user's data\n",
        "\n",
        "use a 'built-in' process to display user's data"
      ],
      "metadata": {
        "id": "-JMjPHhP0spL"
      }
    },
    {
      "cell_type": "markdown",
      "source": [
        "### Code for my appilcation"
      ],
      "metadata": {
        "id": "_ut0Xs5d2XGv"
      }
    },
    {
      "cell_type": "code",
      "source": [
        "first_name = 'Xiaoyin'\n",
        "last_name = 'Zeng'\n",
        "age = 16\n",
        "Fav_Colour = 'green'\n",
        "Fav_Sport = 'badminton'\n",
        "Fav_Team = 'none'"
      ],
      "metadata": {
        "id": "Vi9QIchY20_y"
      },
      "execution_count": 10,
      "outputs": []
    },
    {
      "cell_type": "code",
      "source": [
        "print(first_name)"
      ],
      "metadata": {
        "colab": {
          "base_uri": "https://localhost:8080/"
        },
        "id": "MAmsonGI3kww",
        "outputId": "e0ed845b-b1b7-493a-cba9-d291b09690e7"
      },
      "execution_count": 11,
      "outputs": [
        {
          "output_type": "stream",
          "name": "stdout",
          "text": [
            "Xiaoyin\n"
          ]
        }
      ]
    },
    {
      "cell_type": "code",
      "source": [
        "print(last_name)"
      ],
      "metadata": {
        "colab": {
          "base_uri": "https://localhost:8080/"
        },
        "id": "PUuCRxgu3o3G",
        "outputId": "86aa202e-8be1-42af-f7b3-c986d02f3123"
      },
      "execution_count": 12,
      "outputs": [
        {
          "output_type": "stream",
          "name": "stdout",
          "text": [
            "Zeng\n"
          ]
        }
      ]
    },
    {
      "cell_type": "code",
      "source": [
        "print(age)"
      ],
      "metadata": {
        "colab": {
          "base_uri": "https://localhost:8080/"
        },
        "id": "4vFF-OMM3roI",
        "outputId": "cee6d4e5-594a-4e36-90fa-87aae6c2f386"
      },
      "execution_count": 13,
      "outputs": [
        {
          "output_type": "stream",
          "name": "stdout",
          "text": [
            "16\n"
          ]
        }
      ]
    },
    {
      "cell_type": "code",
      "source": [
        "print(Fav_Colour)"
      ],
      "metadata": {
        "colab": {
          "base_uri": "https://localhost:8080/"
        },
        "id": "u59GjD5X3vWU",
        "outputId": "08adf3dd-e21c-4261-fb30-0fc75a16f25e"
      },
      "execution_count": 14,
      "outputs": [
        {
          "output_type": "stream",
          "name": "stdout",
          "text": [
            "green\n"
          ]
        }
      ]
    },
    {
      "cell_type": "code",
      "source": [
        "print(Fav_Sport)"
      ],
      "metadata": {
        "colab": {
          "base_uri": "https://localhost:8080/"
        },
        "id": "YWGqqUKJ3yAM",
        "outputId": "8e9259a2-4cc9-49e4-9a66-183cea02afef"
      },
      "execution_count": 15,
      "outputs": [
        {
          "output_type": "stream",
          "name": "stdout",
          "text": [
            "badminton\n"
          ]
        }
      ]
    },
    {
      "cell_type": "code",
      "source": [
        "print(Fav_Team)"
      ],
      "metadata": {
        "colab": {
          "base_uri": "https://localhost:8080/"
        },
        "id": "9YTDDKnE306m",
        "outputId": "be967ace-9114-466e-a24f-969f53e24961"
      },
      "execution_count": 16,
      "outputs": [
        {
          "output_type": "stream",
          "name": "stdout",
          "text": [
            "none\n"
          ]
        }
      ]
    },
    {
      "cell_type": "code",
      "source": [
        "First_name = input(\"What is your first name\")"
      ],
      "metadata": {
        "colab": {
          "base_uri": "https://localhost:8080/"
        },
        "id": "nMU6eky8328H",
        "outputId": "6abef552-8189-4c8b-9ce9-186560a3d26a"
      },
      "execution_count": 21,
      "outputs": [
        {
          "name": "stdout",
          "output_type": "stream",
          "text": [
            "What is your first name\n"
          ]
        }
      ]
    },
    {
      "cell_type": "code",
      "source": [
        "print(First_name)"
      ],
      "metadata": {
        "id": "ZwqGydMv4Jjg"
      },
      "execution_count": null,
      "outputs": []
    },
    {
      "cell_type": "code",
      "source": [
        "first_name = input(\"What is your first name\")\n",
        "# In this line I am using the input method to ask for the user's first name\n",
        "\n",
        "last_name = input(\"What is your last name\")\n",
        "# In this line I am using the input method to ask for the user's last name\n",
        "\n",
        "age = input('What is your age?')\n",
        "# In this line I am using the input method to ask for the user's age\n",
        "\n",
        "Fav_Colour = input(\"What is your favorite colour\")\n",
        "# In this line I am using the input method to ask for the user's favorite colour\n",
        "\n",
        "Fav_Sport = input('What is your favorite sport?')\n",
        "# In this line I am using the input method to ask for the user's favorite sport\n",
        "\n",
        "Fav_Team = input('What is your favorite team?')\n",
        "# In this line I am using the input method to ask for the user's favorite team\n"
      ],
      "metadata": {
        "colab": {
          "base_uri": "https://localhost:8080/"
        },
        "id": "5g7y09nb4ffB",
        "outputId": "6da78bc5-0bb1-4126-ab74-ebf666929e4b"
      },
      "execution_count": null,
      "outputs": [
        {
          "name": "stdout",
          "output_type": "stream",
          "text": [
            "What is your first name\n"
          ]
        }
      ]
    },
    {
      "cell_type": "code",
      "source": [
        "print(f\"User first name is, {First_name}, last name is, {Last_Name}, age is, {Age},\\\n",
        " favourite colour is, {Fav_Colour}, favourite sport is, {Fav_Sport}, favourite team is, {Fav_Team}\")\n",
        "\n",
        "# f stands for formate and you put the variable into the curly brackets to make it become one line\n"
      ],
      "metadata": {
        "id": "-9wE5Qev5JxN"
      },
      "execution_count": null,
      "outputs": []
    },
    {
      "cell_type": "markdown",
      "source": [
        "F-String Formating"
      ],
      "metadata": {
        "id": "0NsqN-IW6nVk"
      }
    },
    {
      "cell_type": "code",
      "source": [
        "greetings = 'Hello'\n",
        "name = 'John'"
      ],
      "metadata": {
        "id": "2-Fb_4uc6t5K"
      },
      "execution_count": null,
      "outputs": []
    },
    {
      "cell_type": "code",
      "source": [
        "print(f\"{greetings}\")"
      ],
      "metadata": {
        "id": "hWx0jIhk7C-M"
      },
      "execution_count": null,
      "outputs": []
    }
  ]
}