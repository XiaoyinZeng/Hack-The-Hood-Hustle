{
  "nbformat": 4,
  "nbformat_minor": 0,
  "metadata": {
    "colab": {
      "provenance": [],
      "authorship_tag": "ABX9TyPoQAn1gEHly8WX5mkUAV6J",
      "include_colab_link": true
    },
    "kernelspec": {
      "name": "python3",
      "display_name": "Python 3"
    },
    "language_info": {
      "name": "python"
    }
  },
  "cells": [
    {
      "cell_type": "markdown",
      "metadata": {
        "id": "view-in-github",
        "colab_type": "text"
      },
      "source": [
        "<a href=\"https://colab.research.google.com/github/XiaoyinZeng/Hack-The-Hood-Hustle/blob/main/lab_3_Shopping_Cart.ipynb\" target=\"_parent\"><img src=\"https://colab.research.google.com/assets/colab-badge.svg\" alt=\"Open In Colab\"/></a>"
      ]
    },
    {
      "cell_type": "markdown",
      "source": [
        "# Shopping Cart\n",
        "\n",
        "## Part I\n",
        "\n",
        "1. What do I have?\n",
        "- I have the variables I want to use.\n",
        "- I have defined a way to check if something is already on my cart.\n",
        "- I have a way to ask the user for data.\n",
        "\n",
        "2. what do I want?\n",
        "I want to start the process of building a shopping cart\n",
        "\n",
        "3. What do I need?\n",
        "- a place to hold items.\n",
        "  \n",
        "  `cart`\n",
        "\n",
        "a way to add items to our list\n",
        "  \n",
        "  `cart.append()`\n",
        "\n",
        "a way to print the items in our list\n",
        "  \n",
        "  `print(\"\"\"\"\"\" STUFF \"\"\"\"\"\")`\n",
        "\n",
        "a way to check if an item is already on that list (optional)\n",
        "\n",
        "  `if something  is on the cart`\n",
        "  `then` do something\n",
        "  `else` do something else\n",
        "\n",
        "The application will ask the user for items and then add them to a list which we call cart. then a process will check if the item entered is on the list and if it is, the item will not be placed on that list."
      ],
      "metadata": {
        "id": "4_Ha4GLZx-Jl"
      }
    },
    {
      "cell_type": "code",
      "source": [
        "cart = []"
      ],
      "metadata": {
        "id": "7X78Zs9T0WSE"
      },
      "execution_count": 2,
      "outputs": []
    },
    {
      "cell_type": "code",
      "source": [
        "cart.append('tacos')\n",
        "print(f\"The items in your cart are : {cart}\")\n"
      ],
      "metadata": {
        "colab": {
          "base_uri": "https://localhost:8080/"
        },
        "id": "k9U_e6iO3HC0",
        "outputId": "5793e530-8a6f-42a8-abb7-82b7f3f3b85f"
      },
      "execution_count": 3,
      "outputs": [
        {
          "output_type": "stream",
          "name": "stdout",
          "text": [
            "The items in your cart are : ['tacos']\n"
          ]
        }
      ]
    },
    {
      "cell_type": "code",
      "source": [
        "item = input('What would you like to add to the shopping cart? ')\n",
        "#TODO: input the sentence to asks the question\n",
        "cart.append(item)\n",
        "#TODO: to add the items in the cart\n",
        "print(f\"The items in your cart are: {cart}\")\n",
        "#TODO: to print out the items that are in the cart"
      ],
      "metadata": {
        "id": "AAd4cCLq3RKT"
      },
      "execution_count": null,
      "outputs": []
    },
    {
      "cell_type": "code",
      "source": [
        "print(f\"The items in your cart are: {cart}\")\n",
        "item = input('What would you like to add to the shopping cart? ')\n",
        "#TODO: to print out the items that are in the cart and ask another question about what you like to add\n",
        "'''\n",
        "`if` item is on the cart\n",
        "`then`   do something\n",
        "`else`   do somethign else\n",
        "'''\n",
        "if item in cart:\n",
        "    #TODO: use the if statement\n",
        "    print(f'{item} is already on the cart.')\n",
        "    #TODO: print the items if the item is in the cart\n",
        "else:\n",
        "#TODO: if the item is not in the cart\n",
        "    cart.append(item)\n",
        "    #TODO: then add the item you type in the cart\n",
        "print(f\"The items in your cart are: {cart}\")\n",
        "#TODO: print the final items that are in your cart"
      ],
      "metadata": {
        "id": "IlLoA8Y04WRk"
      },
      "execution_count": null,
      "outputs": []
    },
    {
      "cell_type": "code",
      "source": [],
      "metadata": {
        "id": "6CktMvky4WE3"
      },
      "execution_count": null,
      "outputs": []
    }
  ]
}