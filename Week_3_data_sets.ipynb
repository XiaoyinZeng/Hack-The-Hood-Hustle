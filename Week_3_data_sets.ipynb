{
  "nbformat": 4,
  "nbformat_minor": 0,
  "metadata": {
    "colab": {
      "provenance": [],
      "authorship_tag": "ABX9TyOoqOlcjePtKA7FWlBKUF4D",
      "include_colab_link": true
    },
    "kernelspec": {
      "name": "python3",
      "display_name": "Python 3"
    },
    "language_info": {
      "name": "python"
    }
  },
  "cells": [
    {
      "cell_type": "markdown",
      "metadata": {
        "id": "view-in-github",
        "colab_type": "text"
      },
      "source": [
        "<a href=\"https://colab.research.google.com/github/XiaoyinZeng/Hack-The-Hood-Hustle/blob/main/Week_3_data_sets.ipynb\" target=\"_parent\"><img src=\"https://colab.research.google.com/assets/colab-badge.svg\" alt=\"Open In Colab\"/></a>"
      ]
    },
    {
      "cell_type": "code",
      "execution_count": null,
      "metadata": {
        "id": "4mqwX3-5lgyU"
      },
      "outputs": [],
      "source": []
    },
    {
      "cell_type": "markdown",
      "source": [
        "#Build a dictionary of our favorite foods\n",
        "\n",
        "  Add blockquote\n",
        "  "
      ],
      "metadata": {
        "id": "1BtUcdhrmUmV"
      }
    },
    {
      "cell_type": "code",
      "source": [
        "likes = ['ice cream','fruits','pizza']\n",
        "dislikes = ['fig', 'eggplant']\n",
        "\n",
        "xiaoyin = {'likes' : ['ice cream','fruits','pizza'], 'dislikes': ['fig', 'eggplant']\n",
        "}\n",
        "print(xiaoyin)"
      ],
      "metadata": {
        "colab": {
          "base_uri": "https://localhost:8080/"
        },
        "id": "2E2Z2sTHmaK_",
        "outputId": "20d903d5-12de-44f6-e9d2-9eb127919db0"
      },
      "execution_count": 6,
      "outputs": [
        {
          "output_type": "stream",
          "name": "stdout",
          "text": [
            "{'likes': ['ice cream', 'fruits', 'pizza'], 'dislikes': ['lemon', 'eggplant']}\n"
          ]
        }
      ]
    },
    {
      "cell_type": "markdown",
      "source": [
        "Print out the list for likes\n",
        "Print out the list for dislikes"
      ],
      "metadata": {
        "id": "IZfo1tNPnRpz"
      }
    },
    {
      "cell_type": "code",
      "source": [
        "print(xiaoyin['likes'])"
      ],
      "metadata": {
        "colab": {
          "base_uri": "https://localhost:8080/"
        },
        "id": "bdRldVDnowiN",
        "outputId": "27103779-3a03-4a13-e1e4-9a8ed3a16cd5"
      },
      "execution_count": 7,
      "outputs": [
        {
          "output_type": "stream",
          "name": "stdout",
          "text": [
            "['ice cream', 'fruits', 'pizza']\n"
          ]
        }
      ]
    },
    {
      "cell_type": "code",
      "source": [
        "print(xiaoyin['dislikes'])"
      ],
      "metadata": {
        "colab": {
          "base_uri": "https://localhost:8080/"
        },
        "id": "T_uicujRpkcO",
        "outputId": "a0103f02-2cbb-4959-e8a9-51e2bb29f824"
      },
      "execution_count": 8,
      "outputs": [
        {
          "output_type": "stream",
          "name": "stdout",
          "text": [
            "['lemon', 'eggplant']\n"
          ]
        }
      ]
    },
    {
      "cell_type": "code",
      "source": [
        "print(likes[0:1])"
      ],
      "metadata": {
        "colab": {
          "base_uri": "https://localhost:8080/"
        },
        "id": "pYDPJ85LpovI",
        "outputId": "31e323dd-8561-425f-8b5a-3d326b68a02b"
      },
      "execution_count": 10,
      "outputs": [
        {
          "output_type": "stream",
          "name": "stdout",
          "text": [
            "['ice cream']\n"
          ]
        }
      ]
    },
    {
      "cell_type": "markdown",
      "source": [
        "# Nestd Data types"
      ],
      "metadata": {
        "id": "l_PBnayUsuuf"
      }
    },
    {
      "cell_type": "code",
      "source": [
        "meal_options = {\n",
        "    \"breakfast\": {\n",
        "        \"food\": [\"pancakes\", \"waffles\", \"fruit\"],\n",
        "        \"drinks\": [\"coffee\", \"black tea\", \"smoothie\", \"water\"]\n",
        "    },\n",
        "    \"lunch\": {\n",
        "        \"food\": [\"sandwich\", \"dumplings\"],\n",
        "        \"drinks\": [\"water\", \"green tea\", \"soda\"]\n",
        "    },\n",
        "    \"dinner\": {\n",
        "        \"food\": [\"ramen\", \"risotto\"],\n",
        "        \"drinks\": [\"water\", \"chamomile tea\"]\n",
        "    }\n",
        "}\n",
        "# 1. print all the meal options\n",
        "print(meal_options)\n",
        "\n",
        "# 2. print only the breakfast options\n",
        "print(meal_options['breakfast'])\n",
        "\n",
        "# 3. print the dinner food options\n",
        "print(meal_options['dinner'])\n",
        "\n",
        "# 4. print the lunch drinks options\n",
        "print(meal_options['lunch']['drinks'])\n",
        "\n",
        "# 5. print waffles (by accessing the dictionaries and list)\n",
        "print(meal_options['breakfast']['food'][1:2])\n",
        "\n",
        "# 6. print dumplings (by accessing the dictionaries and list)\n",
        "print(meal_options['lunch']['food'][1])\n",
        "\n",
        "# 7. print chamomile tea (by accessing the dictionaries and list)\n",
        "print(meal_options['dinner']['drinks'][1])\n",
        "\n",
        "# 8. remove green tea from the lunch drinks\n",
        "meal_options['lunch']['drinks'].remove('green tea')\n",
        "print(meal_options['lunch']['drinks'])\n",
        "\n",
        "# 9. add pizza to dinner foods\n",
        "meal_options['dinner']['food'].append('pizza')\n",
        "print(meal_options['dinner']['food'])"
      ],
      "metadata": {
        "colab": {
          "base_uri": "https://localhost:8080/"
        },
        "id": "ECZ-4Vvssx4z",
        "outputId": "b48dab37-0380-44b9-9bfa-4e975d1f79a8"
      },
      "execution_count": 34,
      "outputs": [
        {
          "output_type": "stream",
          "name": "stdout",
          "text": [
            "{'breakfast': {'food': ['pancakes', 'waffles', 'fruit'], 'drinks': ['coffee', 'black tea', 'smoothie', 'water']}, 'lunch': {'food': ['sandwich', 'dumplings'], 'drinks': ['water', 'green tea', 'soda']}, 'dinner': {'food': ['ramen', 'risotto'], 'drinks': ['water', 'chamomile tea']}}\n",
            "{'food': ['pancakes', 'waffles', 'fruit'], 'drinks': ['coffee', 'black tea', 'smoothie', 'water']}\n",
            "{'food': ['ramen', 'risotto'], 'drinks': ['water', 'chamomile tea']}\n",
            "['water', 'green tea', 'soda']\n",
            "['waffles']\n",
            "dumplings\n",
            "chamomile tea\n",
            "['water', 'soda']\n",
            "['ramen', 'risotto', 'pizza']\n"
          ]
        }
      ]
    },
    {
      "cell_type": "code",
      "source": [],
      "metadata": {
        "id": "N_N_b8RrvJwT"
      },
      "execution_count": null,
      "outputs": []
    }
  ]
}